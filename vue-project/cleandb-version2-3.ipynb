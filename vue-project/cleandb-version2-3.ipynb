{
 "cells": [
  {
   "cell_type": "code",
   "execution_count": 7,
   "metadata": {},
   "outputs": [
    {
     "name": "stdout",
     "output_type": "stream",
     "text": [
      "Agences filtrées :\n",
      "           agency_id agency_name                            agency_url  \\\n",
      "0  IDFM:Operator_100        RATP  https://www.iledefrance-mobilites.fr   \n",
      "\n",
      "  agency_timezone  agency_lang  agency_phone  agency_email  \\\n",
      "0    Europe/Paris          NaN           NaN           NaN   \n",
      "\n",
      "                                     agency_fare_url  \n",
      "0  https://www.iledefrance-mobilites.fr/titres-et...  \n"
     ]
    }
   ],
   "source": [
    "import pandas as pd\n",
    "\n",
    "# Lire le fichier agency.txt\n",
    "agency = pd.read_csv('../Version2-3/agency.txt')\n",
    "\n",
    "# Filtrer les lignes où agency_id = 'IDFM:Operator_100'\n",
    "filtered_agency = agency[agency['agency_id'] == 'IDFM:Operator_100']\n",
    "\n",
    "# Écrire le fichier filtré dans agency.txt en remplaçant le contenu existant\n",
    "filtered_agency.to_csv('../Version2-3/agency.txt', index=False)\n",
    "\n",
    "# Afficher un aperçu des données filtrées\n",
    "print(\"Agences filtrées :\")\n",
    "print(filtered_agency.head())"
   ]
  },
  {
   "cell_type": "code",
   "execution_count": 8,
   "metadata": {},
   "outputs": [
    {
     "name": "stdout",
     "output_type": "stream",
     "text": [
      "Routes filtrées :\n",
      "      route_id          agency_id route_short_name route_long_name  \\\n",
      "0  IDFM:C01371  IDFM:Operator_100                1               1   \n",
      "1  IDFM:C01372  IDFM:Operator_100                2               2   \n",
      "2  IDFM:C01375  IDFM:Operator_100                5               5   \n",
      "3  IDFM:C01376  IDFM:Operator_100                6               6   \n",
      "4  IDFM:C01373  IDFM:Operator_100                3               3   \n",
      "\n",
      "   route_desc  route_type  route_url route_color route_text_color  \\\n",
      "0         NaN           1        NaN      FFBE00           000000   \n",
      "1         NaN           1        NaN      0055C8           FFFFFF   \n",
      "2         NaN           1        NaN      FF7E2E           000000   \n",
      "3         NaN           1        NaN      6ECA97           000000   \n",
      "4         NaN           1        NaN      6E6E00           FFFFFF   \n",
      "\n",
      "   route_sort_order  \n",
      "0               NaN  \n",
      "1               NaN  \n",
      "2               NaN  \n",
      "3               NaN  \n",
      "4               NaN  \n"
     ]
    }
   ],
   "source": [
    "import pandas as pd\n",
    "\n",
    "# Lire le fichier routes.txt\n",
    "routes = pd.read_csv('../Version2-3/routes.txt')\n",
    "\n",
    "# Filtrer les lignes où agency_id = 'IDFM:Operator_100' et route_type = 1\n",
    "filtered_routes = routes[(routes['agency_id'] == 'IDFM:Operator_100') & (routes['route_type'] == 1)]\n",
    "\n",
    "# Écrire le fichier filtré dans routes.txt en remplaçant le contenu existant\n",
    "filtered_routes.to_csv('../Version2-3/routes.txt', index=False)\n",
    "\n",
    "# Afficher un aperçu des données filtrées\n",
    "print(\"Routes filtrées :\")\n",
    "print(filtered_routes.head())"
   ]
  },
  {
   "cell_type": "code",
   "execution_count": 9,
   "metadata": {},
   "outputs": [
    {
     "name": "stdout",
     "output_type": "stream",
     "text": [
      "Trips filtrés :\n",
      "      route_id service_id                                            trip_id  \\\n",
      "0  IDFM:C01371     IDFM:1  IDFM:RATP:107769-C01371-COU_RATP_4864461_95549...   \n",
      "1  IDFM:C01371     IDFM:1  IDFM:RATP:107769-C01371-COU_RATP_4864461_955496_3   \n",
      "2  IDFM:C01371     IDFM:1  IDFM:RATP:107769-C01371-COU_RATP_4864461_95549...   \n",
      "3  IDFM:C01371     IDFM:1  IDFM:RATP:107769-C01371-COU_RATP_4864461_955496_5   \n",
      "4  IDFM:C01371     IDFM:1  IDFM:RATP:107769-C01371-COU_RATP_4864461_955496_7   \n",
      "\n",
      "               trip_headsign  trip_short_name  direction_id  block_id  \\\n",
      "0  La Défense (Grande Arche)              NaN             1       NaN   \n",
      "1  La Défense (Grande Arche)              NaN             1       NaN   \n",
      "2  La Défense (Grande Arche)              NaN             1       NaN   \n",
      "3  La Défense (Grande Arche)              NaN             1       NaN   \n",
      "4  La Défense (Grande Arche)              NaN             1       NaN   \n",
      "\n",
      "   shape_id  wheelchair_accessible  bikes_allowed  \n",
      "0       NaN                      2              0  \n",
      "1       NaN                      2              0  \n",
      "2       NaN                      2              0  \n",
      "3       NaN                      2              0  \n",
      "4       NaN                      2              0  \n"
     ]
    }
   ],
   "source": [
    "import pandas as pd\n",
    "\n",
    "# Lire le fichier routes.txt\n",
    "routes = pd.read_csv('../Version2-3/routes.txt')\n",
    "\n",
    "# Récupérer toutes les valeurs de la colonne route_id\n",
    "valid_route_ids = routes['route_id'].unique()\n",
    "\n",
    "# Lire le fichier trips.txt\n",
    "trips = pd.read_csv('../Version2-3/trips.txt')\n",
    "\n",
    "# Supprimer les lignes dont le route_id ne correspond pas à l'un de ceux présents dans routes.txt\n",
    "filtered_trips = trips[trips['route_id'].isin(valid_route_ids)]\n",
    "\n",
    "# Écrire le fichier filtré dans trips.txt en remplaçant le contenu existant\n",
    "filtered_trips.to_csv('../Version2-3/trips.txt', index=False)\n",
    "\n",
    "# Afficher un aperçu des données filtrées\n",
    "print(\"Trips filtrés :\")\n",
    "print(filtered_trips.head())"
   ]
  },
  {
   "cell_type": "code",
   "execution_count": 10,
   "metadata": {},
   "outputs": [
    {
     "name": "stdout",
     "output_type": "stream",
     "text": [
      "Calendar filtré :\n",
      "    service_id  monday  tuesday  wednesday  thursday  friday  saturday  \\\n",
      "0       IDFM:1       1        1          1         1       1         0   \n",
      "1   IDFM:10017       0        0          0         0       0         0   \n",
      "2   IDFM:11534       0        0          0         0       0         0   \n",
      "3  IDFM:100026       0        0          0         0       0         1   \n",
      "4  IDFM:100028       0        0          0         0       0         0   \n",
      "\n",
      "   sunday  start_date  end_date  \n",
      "0       0    20240229  20240329  \n",
      "1       1    20240303  20240324  \n",
      "2       1    20240317  20240317  \n",
      "3       0    20240302  20240323  \n",
      "4       1    20240303  20240324  \n",
      "\n",
      "Calendar Dates filtré :\n",
      "    service_id      date  exception_type\n",
      "0   IDFM:10017  20240317               2\n",
      "1  IDFM:151751  20240317               2\n",
      "2  IDFM:153619  20240317               1\n",
      "3  IDFM:155896  20240329               1\n",
      "4  IDFM:155913  20240305               2\n"
     ]
    }
   ],
   "source": [
    "import pandas as pd\n",
    "\n",
    "# Lire le fichier trips.txt\n",
    "trips = pd.read_csv('../Version2-3/trips.txt')\n",
    "\n",
    "# Récupérer toutes les valeurs de la colonne service_id\n",
    "valid_service_ids = trips['service_id'].unique()\n",
    "\n",
    "# Lire le fichier calendar.txt\n",
    "calendar = pd.read_csv('../Version2-3/calendar.txt')\n",
    "\n",
    "# Supprimer les lignes dont le service_id ne correspond pas à l'un de ceux présents dans trips.txt\n",
    "filtered_calendar = calendar[calendar['service_id'].isin(valid_service_ids)]\n",
    "\n",
    "# Écrire le fichier filtré dans calendar.txt en remplaçant le contenu existant\n",
    "filtered_calendar.to_csv('../Version2-3/calendar.txt', index=False)\n",
    "\n",
    "# Lire le fichier calendar_dates.txt\n",
    "calendar_dates = pd.read_csv('../Version2-3/calendar_dates.txt')\n",
    "\n",
    "# Supprimer les lignes dont le service_id ne correspond pas à l'un de ceux présents dans trips.txt\n",
    "filtered_calendar_dates = calendar_dates[calendar_dates['service_id'].isin(valid_service_ids)]\n",
    "\n",
    "# Écrire le fichier filtré dans calendar_dates.txt en remplaçant le contenu existant\n",
    "filtered_calendar_dates.to_csv('../Version2-3/calendar_dates.txt', index=False)\n",
    "\n",
    "# Afficher un aperçu des données filtrées\n",
    "print(\"Calendar filtré :\")\n",
    "print(filtered_calendar.head())\n",
    "print(\"\\nCalendar Dates filtré :\")\n",
    "print(filtered_calendar_dates.head())"
   ]
  },
  {
   "cell_type": "code",
   "execution_count": 11,
   "metadata": {},
   "outputs": [
    {
     "name": "stdout",
     "output_type": "stream",
     "text": [
      "Stop Times filtré :\n",
      "                                             trip_id arrival_time  \\\n",
      "0  IDFM:RATP:107769-C01371-COU_RATP_4864461_95549...     06:56:00   \n",
      "1  IDFM:RATP:107769-C01371-COU_RATP_4864461_95549...     06:58:00   \n",
      "2  IDFM:RATP:107769-C01371-COU_RATP_4864461_95549...     07:00:00   \n",
      "3  IDFM:RATP:107769-C01371-COU_RATP_4864461_95549...     07:02:00   \n",
      "4  IDFM:RATP:107769-C01371-COU_RATP_4864461_95549...     07:04:00   \n",
      "\n",
      "  departure_time      stop_id  stop_sequence  pickup_type  drop_off_type  \\\n",
      "0       06:56:00   IDFM:22078              0            0              1   \n",
      "1       06:58:00  IDFM:463217              1            0              0   \n",
      "2       07:00:00   IDFM:22099              2            0              0   \n",
      "3       07:02:00   IDFM:22102              3            0              0   \n",
      "4       07:04:00  IDFM:463193              4            1              0   \n",
      "\n",
      "   local_zone_id  stop_headsign  timepoint  \n",
      "0            NaN            NaN          1  \n",
      "1            NaN            NaN          1  \n",
      "2            NaN            NaN          1  \n",
      "3            NaN            NaN          1  \n",
      "4            NaN            NaN          1  \n"
     ]
    }
   ],
   "source": [
    "import pandas as pd\n",
    "\n",
    "# Lire le fichier trips.txt\n",
    "trips = pd.read_csv('../Version2-3/trips.txt')\n",
    "\n",
    "# Récupérer toutes les valeurs de la colonne trip_id\n",
    "valid_trip_ids = trips['trip_id'].unique()\n",
    "\n",
    "# Lire le fichier stop_times.txt\n",
    "stop_times = pd.read_csv('../Version2-3/stop_times.txt')\n",
    "\n",
    "# Supprimer les lignes dont le trip_id ne correspond pas à l'un de ceux présents dans trips.txt\n",
    "filtered_stop_times = stop_times[stop_times['trip_id'].isin(valid_trip_ids)]\n",
    "\n",
    "# Écrire le fichier filtré dans stop_times.txt en remplaçant le contenu existant\n",
    "filtered_stop_times.to_csv('../Version2-3/stop_times.txt', index=False)\n",
    "\n",
    "# Afficher un aperçu des données filtrées\n",
    "print(\"Stop Times filtré :\")\n",
    "print(filtered_stop_times.head())"
   ]
  },
  {
   "cell_type": "code",
   "execution_count": 12,
   "metadata": {},
   "outputs": [
    {
     "name": "stdout",
     "output_type": "stream",
     "text": [
      "Stops filtré :\n",
      "        stop_id  stop_code      stop_name  stop_desc  stop_lon   stop_lat  \\\n",
      "60   IDFM:22009        NaN   Campo-Formio        NaN  2.358469  48.835595   \n",
      "65   IDFM:22392        NaN         Crimée        NaN  2.376936  48.890886   \n",
      "80   IDFM:21940        NaN  Marcel Sembat        NaN  2.243468  48.833808   \n",
      "119  IDFM:22133        NaN        Simplon        NaN  2.347795  48.893815   \n",
      "153  IDFM:22057        NaN       Concorde        NaN  2.323181  48.866150   \n",
      "\n",
      "     zone_id  stop_url  location_type parent_station stop_timezone  level_id  \\\n",
      "60       1.0       NaN              0     IDFM:71063  Europe/Paris       NaN   \n",
      "65       1.0       NaN              0     IDFM:72013  Europe/Paris       NaN   \n",
      "80       2.0       NaN              0     IDFM:71054  Europe/Paris       NaN   \n",
      "119      1.0       NaN              0     IDFM:71556  Europe/Paris       NaN   \n",
      "153      1.0       NaN              0     IDFM:71298  Europe/Paris       NaN   \n",
      "\n",
      "     wheelchair_boarding  platform_code  \n",
      "60                     2            NaN  \n",
      "65                     2            NaN  \n",
      "80                     2            NaN  \n",
      "119                    2            NaN  \n",
      "153                    2            NaN  \n"
     ]
    }
   ],
   "source": [
    "import pandas as pd\n",
    "\n",
    "# Lire le fichier stop_times.txt\n",
    "stop_times = pd.read_csv('../Version2-3/stop_times.txt')\n",
    "\n",
    "# Récupérer toutes les valeurs de la colonne stop_id\n",
    "valid_stop_ids = stop_times['stop_id'].unique()\n",
    "\n",
    "# Lire le fichier stops.txt\n",
    "stops = pd.read_csv('../Version2-3/stops.txt')\n",
    "\n",
    "# Supprimer les lignes dont le stop_id ne correspond pas à l'un de ceux présents dans stop_times.txt\n",
    "filtered_stops = stops[stops['stop_id'].isin(valid_stop_ids)]\n",
    "\n",
    "# Écrire le fichier filtré dans stops.txt en remplaçant le contenu existant\n",
    "filtered_stops.to_csv('../Version2-3/stops.txt', index=False)\n",
    "\n",
    "# Afficher un aperçu des données filtrées\n",
    "print(\"Stops filtré :\")\n",
    "print(filtered_stops.head())"
   ]
  },
  {
   "cell_type": "code",
   "execution_count": 14,
   "metadata": {},
   "outputs": [
    {
     "name": "stdout",
     "output_type": "stream",
     "text": [
      "Transfers filtré :\n",
      "  from_stop_id   to_stop_id  transfer_type  min_transfer_time\n",
      "0  IDFM:463079   IDFM:21966              2                 12\n",
      "1   IDFM:22156  IDFM:462955              2                 11\n",
      "2   IDFM:22168  IDFM:463026              2                162\n",
      "3  IDFM:462972  IDFM:463300              2                140\n",
      "4  IDFM:463159  IDFM:463158              2                180\n"
     ]
    }
   ],
   "source": [
    "import pandas as pd\n",
    "\n",
    "# Lire le fichier stops.txt\n",
    "stops = pd.read_csv('../Version2-3/stops.txt')\n",
    "\n",
    "# Récupérer toutes les valeurs de la colonne stop_id\n",
    "valid_stop_ids = stops['stop_id'].unique()\n",
    "\n",
    "# Lire le fichier transfers.txt\n",
    "transfers = pd.read_csv('../Version2-3/transfers.txt')\n",
    "\n",
    "# Supprimer les lignes dont le from_stop_id ou le to_stop_id ne correspond pas à l'un de ceux présents dans stops.txt\n",
    "filtered_transfers = transfers[\n",
    "    transfers['from_stop_id'].isin(valid_stop_ids) &\n",
    "    transfers['to_stop_id'].isin(valid_stop_ids)\n",
    "]\n",
    "\n",
    "# Écrire le fichier filtré dans transfers.txt en remplaçant le contenu existant\n",
    "filtered_transfers.to_csv('../Version2-3/transfers.txt', index=False)\n",
    "\n",
    "# Afficher un aperçu des données filtrées\n",
    "print(\"Transfers filtré :\")\n",
    "print(filtered_transfers.head())"
   ]
  },
  {
   "cell_type": "code",
   "execution_count": 15,
   "metadata": {},
   "outputs": [
    {
     "name": "stdout",
     "output_type": "stream",
     "text": [
      "Stop Extensions filtré :\n",
      "      object_id              object_system               object_code\n",
      "372  IDFM:22009  netex_monomodal_stopplace  monomodalStopPlace:42426\n",
      "373  IDFM:22009            netex_zder_quay                     22009\n",
      "374  IDFM:22009            netex_zder_quay                    463020\n",
      "375  IDFM:22009            netex_zder_quay  monomodalStopPlace:42426\n",
      "376  IDFM:22009                     source        FR::Quay:22009:FR1\n"
     ]
    }
   ],
   "source": [
    "import pandas as pd\n",
    "\n",
    "# Lire le fichier stops.txt\n",
    "stops = pd.read_csv('../Version2-3/stops.txt')\n",
    "\n",
    "# Récupérer toutes les valeurs de la colonne stop_id\n",
    "valid_stop_ids = stops['stop_id'].unique()\n",
    "\n",
    "# Lire le fichier stop_extensions.txt\n",
    "stop_extensions = pd.read_csv('../Version2-3/stop_extensions.txt')\n",
    "\n",
    "# Supprimer les lignes dont le object_id ne correspond pas à l'un de ceux présents dans stops.txt\n",
    "filtered_stop_extensions = stop_extensions[stop_extensions['object_id'].isin(valid_stop_ids)]\n",
    "\n",
    "# Écrire le fichier filtré dans stop_extensions.txt en remplaçant le contenu existant\n",
    "filtered_stop_extensions.to_csv('../Version2-3/stop_extensions.txt', index=False)\n",
    "\n",
    "# Afficher un aperçu des données filtrées\n",
    "print(\"Stop Extensions filtré :\")\n",
    "print(filtered_stop_extensions.head())"
   ]
  },
  {
   "cell_type": "code",
   "execution_count": 17,
   "metadata": {},
   "outputs": [
    {
     "name": "stdout",
     "output_type": "stream",
     "text": [
      "Pathways filtré :\n",
      "Empty DataFrame\n",
      "Columns: [pathway_id, from_stop_id, to_stop_id, pathway_mode, is_bidirectional, length, traversal_time, stair_count, max_slope, min_width, signposted_as, reversed_signposted_as, from_stop_id_numeric, to_stop_id_numeric]\n",
      "Index: []\n"
     ]
    }
   ],
   "source": [
    "import pandas as pd\n",
    "import re\n",
    "\n",
    "\n",
    "\n",
    "# \n",
    "# \n",
    "#  Ne fonctionne pas encore pour trier le fichier pathways.txt\n",
    "# \n",
    "# \n",
    "# \n",
    "# \n",
    "# \n",
    "# \n",
    "# \n",
    "# \n",
    "# \n",
    "# \n",
    "# \n",
    "\n",
    "\n",
    "# Lire le fichier stops.txt\n",
    "stops = pd.read_csv('../Version2-3/stops.txt')\n",
    "stops['stop_id'] = stops['stop_id'].astype(str)  # Convertir en chaîne pour manipulation\n",
    "stops['stop_id_numeric'] = stops['stop_id'].apply(lambda x: re.findall(r'\\d+', x)[0])  # Extraire les chiffres\n",
    "valid_stop_ids = stops['stop_id_numeric'].unique()\n",
    "\n",
    "# Lire le fichier pathways.txt\n",
    "pathways = pd.read_csv('../Version2-3/pathways.txt')\n",
    "pathways['from_stop_id'] = pathways['from_stop_id'].astype(str)\n",
    "pathways['to_stop_id'] = pathways['to_stop_id'].astype(str)\n",
    "\n",
    "# Fonction pour extraire les chiffres d'une chaîne\n",
    "def extract_numeric_id(x):\n",
    "    numbers = re.findall(r'\\d+', x)\n",
    "    if numbers:\n",
    "        return numbers[0]\n",
    "    else:\n",
    "        return None\n",
    "\n",
    "# Extraire les chiffres de from_stop_id et to_stop_id\n",
    "pathways['from_stop_id_numeric'] = pathways['from_stop_id'].apply(extract_numeric_id)\n",
    "pathways['to_stop_id_numeric'] = pathways['to_stop_id'].apply(extract_numeric_id)\n",
    "\n",
    "# Filtrer pathways pour ne garder que les lignes avec from_stop_id et to_stop_id valides\n",
    "filtered_pathways = pathways[\n",
    "    (pathways['from_stop_id_numeric'].isin(valid_stop_ids)) &\n",
    "    (pathways['to_stop_id_numeric'].isin(valid_stop_ids))\n",
    "]\n",
    "\n",
    "# Écrire le fichier filtré dans pathways.txt en remplaçant le contenu existant\n",
    "filtered_pathways.to_csv('../Version2-3/pathways.txt', index=False)\n",
    "\n",
    "# Afficher un aperçu des données filtrées\n",
    "print(\"Pathways filtré :\")\n",
    "print(filtered_pathways.head())\n"
   ]
  }
 ],
 "metadata": {
  "kernelspec": {
   "display_name": ".venv",
   "language": "python",
   "name": "python3"
  },
  "language_info": {
   "codemirror_mode": {
    "name": "ipython",
    "version": 3
   },
   "file_extension": ".py",
   "mimetype": "text/x-python",
   "name": "python",
   "nbconvert_exporter": "python",
   "pygments_lexer": "ipython3",
   "version": "3.12.4"
  }
 },
 "nbformat": 4,
 "nbformat_minor": 2
}
